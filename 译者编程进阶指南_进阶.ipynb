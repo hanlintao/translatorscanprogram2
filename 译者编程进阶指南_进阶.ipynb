{
  "nbformat": 4,
  "nbformat_minor": 0,
  "metadata": {
    "colab": {
      "provenance": [],
      "authorship_tag": "ABX9TyNceTofoPFJeIs/35VxJZ4g",
      "include_colab_link": true
    },
    "kernelspec": {
      "name": "python3",
      "display_name": "Python 3"
    },
    "language_info": {
      "name": "python"
    }
  },
  "cells": [
    {
      "cell_type": "markdown",
      "metadata": {
        "id": "view-in-github",
        "colab_type": "text"
      },
      "source": [
        "<a href=\"https://colab.research.google.com/github/hanlintao/translatorscanprogram2/blob/main/%E8%AF%91%E8%80%85%E7%BC%96%E7%A8%8B%E8%BF%9B%E9%98%B6%E6%8C%87%E5%8D%97_%E8%BF%9B%E9%98%B6.ipynb\" target=\"_parent\"><img src=\"https://colab.research.google.com/assets/colab-badge.svg\" alt=\"Open In Colab\"/></a>"
      ]
    },
    {
      "cell_type": "markdown",
      "source": [
        "**译者编程进阶指南**\n",
        "\n",
        "韩林涛 北京语言大学高级翻译学院\n",
        "\n",
        "**说明：**\n",
        "\n",
        "本书稿为《译者编程进阶指南》的草稿，首先以讲义的形式撰写，通过循序渐进的方法引导翻译专业学生掌握处理多语言文本过程中需要掌握的编程技能。本书使用的主要编程语言为：Python。\n",
        "\n",
        "在写作过程中，欢迎大家通过邮件联系我反馈意见和建议。\n",
        "\n",
        "联系邮箱：hanlintao#blcu.edu.cn (#改为@)"
      ],
      "metadata": {
        "id": "T_tBLbuqJ-Kq"
      }
    },
    {
      "cell_type": "markdown",
      "source": [
        "一、如何调用大语言模型\n",
        "\n"
      ],
      "metadata": {
        "id": "1MrCLH4xKwdR"
      }
    },
    {
      "cell_type": "code",
      "execution_count": 1,
      "metadata": {
        "colab": {
          "base_uri": "https://localhost:8080/"
        },
        "id": "ko-PdaprJ8xP",
        "outputId": "b0796e73-1622-4972-8f51-0bce07324d3e"
      },
      "outputs": [
        {
          "output_type": "stream",
          "name": "stdout",
          "text": [
            "Collecting zhipuai\n",
            "  Downloading zhipuai-2.0.1-py3-none-any.whl (26 kB)\n",
            "Collecting httpx>=0.23.0 (from zhipuai)\n",
            "  Downloading httpx-0.26.0-py3-none-any.whl (75 kB)\n",
            "\u001b[2K     \u001b[90m━━━━━━━━━━━━━━━━━━━━━━━━━━━━━━━━━━━━━━━━\u001b[0m \u001b[32m75.9/75.9 kB\u001b[0m \u001b[31m2.6 MB/s\u001b[0m eta \u001b[36m0:00:00\u001b[0m\n",
            "\u001b[?25hCollecting pydantic>=2.5.2 (from zhipuai)\n",
            "  Downloading pydantic-2.5.3-py3-none-any.whl (381 kB)\n",
            "\u001b[2K     \u001b[90m━━━━━━━━━━━━━━━━━━━━━━━━━━━━━━━━━━━━━━━━\u001b[0m \u001b[32m381.9/381.9 kB\u001b[0m \u001b[31m6.1 MB/s\u001b[0m eta \u001b[36m0:00:00\u001b[0m\n",
            "\u001b[?25hRequirement already satisfied: cachetools>=4.2.2 in /usr/local/lib/python3.10/dist-packages (from zhipuai) (5.3.2)\n",
            "Collecting pyjwt~=2.8.0 (from zhipuai)\n",
            "  Downloading PyJWT-2.8.0-py3-none-any.whl (22 kB)\n",
            "Requirement already satisfied: anyio in /usr/local/lib/python3.10/dist-packages (from httpx>=0.23.0->zhipuai) (3.7.1)\n",
            "Requirement already satisfied: certifi in /usr/local/lib/python3.10/dist-packages (from httpx>=0.23.0->zhipuai) (2023.11.17)\n",
            "Collecting httpcore==1.* (from httpx>=0.23.0->zhipuai)\n",
            "  Downloading httpcore-1.0.2-py3-none-any.whl (76 kB)\n",
            "\u001b[2K     \u001b[90m━━━━━━━━━━━━━━━━━━━━━━━━━━━━━━━━━━━━━━━━\u001b[0m \u001b[32m76.9/76.9 kB\u001b[0m \u001b[31m6.6 MB/s\u001b[0m eta \u001b[36m0:00:00\u001b[0m\n",
            "\u001b[?25hRequirement already satisfied: idna in /usr/local/lib/python3.10/dist-packages (from httpx>=0.23.0->zhipuai) (3.6)\n",
            "Requirement already satisfied: sniffio in /usr/local/lib/python3.10/dist-packages (from httpx>=0.23.0->zhipuai) (1.3.0)\n",
            "Collecting h11<0.15,>=0.13 (from httpcore==1.*->httpx>=0.23.0->zhipuai)\n",
            "  Downloading h11-0.14.0-py3-none-any.whl (58 kB)\n",
            "\u001b[2K     \u001b[90m━━━━━━━━━━━━━━━━━━━━━━━━━━━━━━━━━━━━━━━━\u001b[0m \u001b[32m58.3/58.3 kB\u001b[0m \u001b[31m5.3 MB/s\u001b[0m eta \u001b[36m0:00:00\u001b[0m\n",
            "\u001b[?25hCollecting annotated-types>=0.4.0 (from pydantic>=2.5.2->zhipuai)\n",
            "  Downloading annotated_types-0.6.0-py3-none-any.whl (12 kB)\n",
            "Collecting pydantic-core==2.14.6 (from pydantic>=2.5.2->zhipuai)\n",
            "  Downloading pydantic_core-2.14.6-cp310-cp310-manylinux_2_17_x86_64.manylinux2014_x86_64.whl (2.1 MB)\n",
            "\u001b[2K     \u001b[90m━━━━━━━━━━━━━━━━━━━━━━━━━━━━━━━━━━━━━━━━\u001b[0m \u001b[32m2.1/2.1 MB\u001b[0m \u001b[31m9.4 MB/s\u001b[0m eta \u001b[36m0:00:00\u001b[0m\n",
            "\u001b[?25hCollecting typing-extensions>=4.6.1 (from pydantic>=2.5.2->zhipuai)\n",
            "  Downloading typing_extensions-4.9.0-py3-none-any.whl (32 kB)\n",
            "Requirement already satisfied: exceptiongroup in /usr/local/lib/python3.10/dist-packages (from anyio->httpx>=0.23.0->zhipuai) (1.2.0)\n",
            "Installing collected packages: typing-extensions, pyjwt, h11, annotated-types, pydantic-core, httpcore, pydantic, httpx, zhipuai\n",
            "  Attempting uninstall: typing-extensions\n",
            "    Found existing installation: typing_extensions 4.5.0\n",
            "    Uninstalling typing_extensions-4.5.0:\n",
            "      Successfully uninstalled typing_extensions-4.5.0\n",
            "  Attempting uninstall: pyjwt\n",
            "    Found existing installation: PyJWT 2.3.0\n",
            "    Uninstalling PyJWT-2.3.0:\n",
            "      Successfully uninstalled PyJWT-2.3.0\n",
            "  Attempting uninstall: pydantic\n",
            "    Found existing installation: pydantic 1.10.13\n",
            "    Uninstalling pydantic-1.10.13:\n",
            "      Successfully uninstalled pydantic-1.10.13\n",
            "\u001b[31mERROR: pip's dependency resolver does not currently take into account all the packages that are installed. This behaviour is the source of the following dependency conflicts.\n",
            "lida 0.0.10 requires fastapi, which is not installed.\n",
            "lida 0.0.10 requires kaleido, which is not installed.\n",
            "lida 0.0.10 requires python-multipart, which is not installed.\n",
            "lida 0.0.10 requires uvicorn, which is not installed.\n",
            "llmx 0.0.15a0 requires cohere, which is not installed.\n",
            "llmx 0.0.15a0 requires openai, which is not installed.\n",
            "llmx 0.0.15a0 requires tiktoken, which is not installed.\n",
            "tensorflow-probability 0.22.0 requires typing-extensions<4.6.0, but you have typing-extensions 4.9.0 which is incompatible.\u001b[0m\u001b[31m\n",
            "\u001b[0mSuccessfully installed annotated-types-0.6.0 h11-0.14.0 httpcore-1.0.2 httpx-0.26.0 pydantic-2.5.3 pydantic-core-2.14.6 pyjwt-2.8.0 typing-extensions-4.9.0 zhipuai-2.0.1\n"
          ]
        }
      ],
      "source": [
        "#安装智谱AI的Python库\n",
        "\n",
        "!pip install zhipuai"
      ]
    },
    {
      "cell_type": "code",
      "source": [
        "!pip install --upgrade zhipuai"
      ],
      "metadata": {
        "colab": {
          "base_uri": "https://localhost:8080/"
        },
        "id": "5w-hT-dyLluW",
        "outputId": "f48b11f0-c823-4df0-f44b-9f56e7a7b557"
      },
      "execution_count": 2,
      "outputs": [
        {
          "output_type": "stream",
          "name": "stdout",
          "text": [
            "Requirement already satisfied: zhipuai in /usr/local/lib/python3.10/dist-packages (2.0.1)\n",
            "Requirement already satisfied: httpx>=0.23.0 in /usr/local/lib/python3.10/dist-packages (from zhipuai) (0.26.0)\n",
            "Requirement already satisfied: pydantic>=2.5.2 in /usr/local/lib/python3.10/dist-packages (from zhipuai) (2.5.3)\n",
            "Requirement already satisfied: cachetools>=4.2.2 in /usr/local/lib/python3.10/dist-packages (from zhipuai) (5.3.2)\n",
            "Requirement already satisfied: pyjwt~=2.8.0 in /usr/local/lib/python3.10/dist-packages (from zhipuai) (2.8.0)\n",
            "Requirement already satisfied: anyio in /usr/local/lib/python3.10/dist-packages (from httpx>=0.23.0->zhipuai) (3.7.1)\n",
            "Requirement already satisfied: certifi in /usr/local/lib/python3.10/dist-packages (from httpx>=0.23.0->zhipuai) (2023.11.17)\n",
            "Requirement already satisfied: httpcore==1.* in /usr/local/lib/python3.10/dist-packages (from httpx>=0.23.0->zhipuai) (1.0.2)\n",
            "Requirement already satisfied: idna in /usr/local/lib/python3.10/dist-packages (from httpx>=0.23.0->zhipuai) (3.6)\n",
            "Requirement already satisfied: sniffio in /usr/local/lib/python3.10/dist-packages (from httpx>=0.23.0->zhipuai) (1.3.0)\n",
            "Requirement already satisfied: h11<0.15,>=0.13 in /usr/local/lib/python3.10/dist-packages (from httpcore==1.*->httpx>=0.23.0->zhipuai) (0.14.0)\n",
            "Requirement already satisfied: annotated-types>=0.4.0 in /usr/local/lib/python3.10/dist-packages (from pydantic>=2.5.2->zhipuai) (0.6.0)\n",
            "Requirement already satisfied: pydantic-core==2.14.6 in /usr/local/lib/python3.10/dist-packages (from pydantic>=2.5.2->zhipuai) (2.14.6)\n",
            "Requirement already satisfied: typing-extensions>=4.6.1 in /usr/local/lib/python3.10/dist-packages (from pydantic>=2.5.2->zhipuai) (4.9.0)\n",
            "Requirement already satisfied: exceptiongroup in /usr/local/lib/python3.10/dist-packages (from anyio->httpx>=0.23.0->zhipuai) (1.2.0)\n"
          ]
        }
      ]
    },
    {
      "cell_type": "code",
      "source": [
        "#尝试问第一个问题\n",
        "\n",
        "from zhipuai import ZhipuAI\n",
        "client = ZhipuAI(api_key=\"*****\") # 填写您自己的APIKey\n",
        "response = client.chat.completions.create(\n",
        "    model=\"glm-4\",  # 填写需要调用的模型名称\n",
        "    messages=[\n",
        "        {\"role\": \"user\", \"content\": \"你好\"},\n",
        "        {\"role\": \"assistant\", \"content\": \"我是人工智能助手\"},\n",
        "        {\"role\": \"user\", \"content\": \"你叫什么名字\"},\n",
        "        {\"role\": \"assistant\", \"content\": \"我叫chatGLM\"},\n",
        "        {\"role\": \"user\", \"content\": \"你都可以做些什么事\"}\n",
        "    ],\n",
        ")\n",
        "print(response.choices[0].message)"
      ],
      "metadata": {
        "colab": {
          "base_uri": "https://localhost:8080/"
        },
        "id": "HV9NOH78L2BM",
        "outputId": "28db46fc-7a0d-4400-c1f5-3bf4e538f45a"
      },
      "execution_count": 3,
      "outputs": [
        {
          "output_type": "stream",
          "name": "stdout",
          "text": [
            "content='作为一个人工智能助手，我可以帮助您完成多种任务，包括但不限于：\\n\\n1. 回答问题：提供关于各种主题的信息，包括科学、数学、技术、历史等。\\n2. 文本生成：撰写文章、报告、故事、诗歌等。\\n3. 语言翻译：将一种语言翻译成另一种语言。\\n4. 编程帮助：解答编程问题，提供代码示例和调试帮助。\\n5. 学习辅导：帮助理解复杂的概念，提供学习资源和指导。\\n6. 娱乐互动：参与简单的对话，提供笑话、趣闻等。\\n7. 生活建议：提供日常生活中的小建议，如健康、健身、饮食等。\\n8. 工作支持：辅助进行日程管理、邮件草拟、数据分析等。\\n\\n请注意，我的能力受限于我所接受的训练数据和算法的复杂性。我并不是万能的，但我会尽力提供帮助。' role='assistant' tool_calls=None\n"
          ]
        }
      ]
    },
    {
      "cell_type": "code",
      "source": [
        "#尝试问一个翻译的问题\n",
        "\n",
        "response = client.chat.completions.create(\n",
        "    model=\"glm-4\",  # 填写需要调用的模型名称\n",
        "    messages=[\n",
        "        {\"role\": \"user\", \"content\": \"请将下面的句子翻译成中文：To be, or not to be, that is the question\"}\n",
        "    ],\n",
        ")\n",
        "print(response.choices[0].message)"
      ],
      "metadata": {
        "colab": {
          "base_uri": "https://localhost:8080/"
        },
        "id": "WVP0G1xkME3_",
        "outputId": "d87e5b96-f043-40b7-c4ee-96564162e4f6"
      },
      "execution_count": 4,
      "outputs": [
        {
          "output_type": "stream",
          "name": "stdout",
          "text": [
            "content='生存还是毁灭，这是一个值得考虑的问题。这句话出自莎士比亚的《哈姆雷特》。' role='assistant' tool_calls=None\n"
          ]
        }
      ]
    },
    {
      "cell_type": "code",
      "source": [
        "#这里需要了解JSON的基础知识，知道发送给LLM的是什么，接收到的是什么"
      ],
      "metadata": {
        "id": "pkOoz9nmM-Kw"
      },
      "execution_count": null,
      "outputs": []
    },
    {
      "cell_type": "markdown",
      "source": [
        "前往GLM的文档页面可以看到返回结果的说明：https://open.bigmodel.cn/dev/api#glm-4\n",
        "\n",
        "content：消息内容。其中包括了tool_calls字段,content字段为空。\n",
        "\n",
        "role：消息的角色信息，此时应为assistant\n",
        "\n",
        "tool_calls：模型产生的工具调用消息"
      ],
      "metadata": {
        "id": "4rnW02mfNRFH"
      }
    },
    {
      "cell_type": "code",
      "source": [
        "print(response.choices[0].message.content)"
      ],
      "metadata": {
        "colab": {
          "base_uri": "https://localhost:8080/"
        },
        "id": "bvQ6NCzfOSLc",
        "outputId": "7b74f2a7-acc6-4903-e4a0-8c09430916b9"
      },
      "execution_count": 6,
      "outputs": [
        {
          "output_type": "stream",
          "name": "stdout",
          "text": [
            "生存还是毁灭，这是一个值得考虑的问题。这句话出自莎士比亚的《哈姆雷特》。\n"
          ]
        }
      ]
    },
    {
      "cell_type": "code",
      "source": [
        "#生成一个Python列表，里面有三句莎士比亚的名句的英文版\n",
        "\n",
        "response = client.chat.completions.create(\n",
        "    model=\"glm-4\",  # 填写需要调用的模型名称\n",
        "    messages=[\n",
        "        {\"role\": \"user\", \"content\": \"生成一个Python列表，里面有三句莎士比亚的名句的英文版\"}\n",
        "    ],\n",
        ")\n",
        "print(response.choices[0].message.content)"
      ],
      "metadata": {
        "colab": {
          "base_uri": "https://localhost:8080/"
        },
        "id": "mmr0BAb8OqKu",
        "outputId": "4e510ffb-6779-4bef-ff39-6ffe37280f7d"
      },
      "execution_count": 7,
      "outputs": [
        {
          "output_type": "stream",
          "name": "stdout",
          "text": [
            "以下是包含三句莎士比亚名句的Python数组：\n",
            "\n",
            "```python\n",
            "shakespeare_quotes = [\n",
            "    \"To be, or not to be: that is the question. (Hamlet)\",\n",
            "    \"All the world's a stage, and all the men and women merely players. (As You Like It)\",\n",
            "    \"What's in a name? That which we call a rose by any other name would smell as sweet. (Romeo and Juliet)\"\n",
            "]\n",
            "```\n",
            "\n",
            "这里每句名句后面都附带了作品的名称，以便了解这句话出自哪部作品。\n"
          ]
        }
      ]
    },
    {
      "cell_type": "markdown",
      "source": [
        "shakespeare_quotes = [\n",
        "    \"To be, or not to be: that is the question. (Hamlet)\",\n",
        "    \"All the world's a stage, and all the men and women merely players. (As You Like It)\",\n",
        "    \"What's in a name? That which we call a rose by any other name would smell as sweet. (Romeo and Juliet)\"]\n",
        "\n",
        "主要步骤:\n",
        "\n",
        "1. 定义一个名为shakespeare_quotes 的列表变量\n",
        "2. 使用方括号[]定义列表\n",
        "3. 在列表中添加三个字符串元素,分别表示三句莎士比亚名句，列表元素中包含的字符串需要用双引号\"\"括起来。"
      ],
      "metadata": {
        "id": "J-hePmLEO3qT"
      }
    },
    {
      "cell_type": "code",
      "source": [
        "#遍历列表，逐句翻译\n",
        "\n",
        "shakespeare_quotes = [\n",
        "    \"To be, or not to be: that is the question. (Hamlet)\",\n",
        "    \"All the world's a stage, and all the men and women merely players. (As You Like It)\",\n",
        "    \"What's in a name? That which we call a rose by any other name would smell as sweet. (Romeo and Juliet)\"\n",
        "]\n",
        "\n",
        "for quote in shakespeare_quotes:\n",
        "  response = client.chat.completions.create(\n",
        "    model=\"glm-4\",\n",
        "    messages=[\n",
        "    {\"role\": \"user\", \"content\": f\"请将下面的句子翻译成中文:{quote}\"}\n",
        "    ],\n",
        "  )\n",
        "  print(response.choices[0].message.content)"
      ],
      "metadata": {
        "colab": {
          "base_uri": "https://localhost:8080/"
        },
        "id": "doLM3R0wPLAG",
        "outputId": "8d840ab4-4d29-4345-d1b0-9aa51890db45"
      },
      "execution_count": 10,
      "outputs": [
        {
          "output_type": "stream",
          "name": "stdout",
          "text": [
            "生存还是毁灭，这是一个值得考虑的问题。（《哈姆雷特》）\n",
            "这句话翻译成中文是：“全世界是一个舞台，所有的男男女女不过是其中的演员。”（出自莎士比亚的《皆大欢喜》）\n",
            "这句话翻译成中文是：“名字有什么关系呢？无论我们称之为玫瑰的东西叫做什么名字，它的香味依然甜蜜。”（出自《罗密欧与朱丽叶》）\n"
          ]
        }
      ]
    },
    {
      "cell_type": "markdown",
      "source": [
        "本案例涉及到的Python主要知识点包括：\n",
        "\n",
        "1. 使用Python安装和调用大语言模型API\n",
        "\n",
        "2. 读取和打印JSON格式的大语言模型响应数据\n",
        "\n",
        "3. Python列表的创建和遍历\n",
        "\n",
        "4. Python循环"
      ],
      "metadata": {
        "id": "b7eDpAHlPz74"
      }
    }
  ]
}