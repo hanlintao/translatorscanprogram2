{
  "nbformat": 4,
  "nbformat_minor": 0,
  "metadata": {
    "colab": {
      "provenance": [],
      "authorship_tag": "ABX9TyMTQ0VR0Vpy6p58JNr0J5BF",
      "include_colab_link": true
    },
    "kernelspec": {
      "name": "python3",
      "display_name": "Python 3"
    },
    "language_info": {
      "name": "python"
    }
  },
  "cells": [
    {
      "cell_type": "markdown",
      "metadata": {
        "id": "view-in-github",
        "colab_type": "text"
      },
      "source": [
        "<a href=\"https://colab.research.google.com/github/hanlintao/translatorscanprogram2/blob/main/%E8%AF%91%E8%80%85%E7%BC%96%E7%A8%8B%E8%BF%9B%E9%98%B6%E6%8C%87%E5%8D%97_%E8%BF%9B%E9%98%B6.ipynb\" target=\"_parent\"><img src=\"https://colab.research.google.com/assets/colab-badge.svg\" alt=\"Open In Colab\"/></a>"
      ]
    },
    {
      "cell_type": "markdown",
      "source": [
        "**译者编程进阶指南**\n",
        "\n",
        "韩林涛 北京语言大学高级翻译学院\n",
        "\n",
        "**说明：**\n",
        "\n",
        "本书稿为《译者编程进阶指南》的草稿，首先以讲义的形式撰写，通过循序渐进的方法引导翻译专业学生掌握处理多语言文本过程中需要掌握的编程技能。本书使用的主要编程语言为：Python。\n",
        "\n",
        "在写作过程中，欢迎大家通过邮件联系我反馈意见和建议。\n",
        "\n",
        "联系邮箱：hanlintao#blcu.edu.cn (#改为@)"
      ],
      "metadata": {
        "id": "T_tBLbuqJ-Kq"
      }
    },
    {
      "cell_type": "markdown",
      "source": [
        "**一、如何调用大语言模型**\n",
        "\n"
      ],
      "metadata": {
        "id": "1MrCLH4xKwdR"
      }
    },
    {
      "cell_type": "code",
      "execution_count": 1,
      "metadata": {
        "colab": {
          "base_uri": "https://localhost:8080/"
        },
        "id": "ko-PdaprJ8xP",
        "outputId": "b0796e73-1622-4972-8f51-0bce07324d3e"
      },
      "outputs": [
        {
          "output_type": "stream",
          "name": "stdout",
          "text": [
            "Collecting zhipuai\n",
            "  Downloading zhipuai-2.0.1-py3-none-any.whl (26 kB)\n",
            "Collecting httpx>=0.23.0 (from zhipuai)\n",
            "  Downloading httpx-0.26.0-py3-none-any.whl (75 kB)\n",
            "\u001b[2K     \u001b[90m━━━━━━━━━━━━━━━━━━━━━━━━━━━━━━━━━━━━━━━━\u001b[0m \u001b[32m75.9/75.9 kB\u001b[0m \u001b[31m2.6 MB/s\u001b[0m eta \u001b[36m0:00:00\u001b[0m\n",
            "\u001b[?25hCollecting pydantic>=2.5.2 (from zhipuai)\n",
            "  Downloading pydantic-2.5.3-py3-none-any.whl (381 kB)\n",
            "\u001b[2K     \u001b[90m━━━━━━━━━━━━━━━━━━━━━━━━━━━━━━━━━━━━━━━━\u001b[0m \u001b[32m381.9/381.9 kB\u001b[0m \u001b[31m6.1 MB/s\u001b[0m eta \u001b[36m0:00:00\u001b[0m\n",
            "\u001b[?25hRequirement already satisfied: cachetools>=4.2.2 in /usr/local/lib/python3.10/dist-packages (from zhipuai) (5.3.2)\n",
            "Collecting pyjwt~=2.8.0 (from zhipuai)\n",
            "  Downloading PyJWT-2.8.0-py3-none-any.whl (22 kB)\n",
            "Requirement already satisfied: anyio in /usr/local/lib/python3.10/dist-packages (from httpx>=0.23.0->zhipuai) (3.7.1)\n",
            "Requirement already satisfied: certifi in /usr/local/lib/python3.10/dist-packages (from httpx>=0.23.0->zhipuai) (2023.11.17)\n",
            "Collecting httpcore==1.* (from httpx>=0.23.0->zhipuai)\n",
            "  Downloading httpcore-1.0.2-py3-none-any.whl (76 kB)\n",
            "\u001b[2K     \u001b[90m━━━━━━━━━━━━━━━━━━━━━━━━━━━━━━━━━━━━━━━━\u001b[0m \u001b[32m76.9/76.9 kB\u001b[0m \u001b[31m6.6 MB/s\u001b[0m eta \u001b[36m0:00:00\u001b[0m\n",
            "\u001b[?25hRequirement already satisfied: idna in /usr/local/lib/python3.10/dist-packages (from httpx>=0.23.0->zhipuai) (3.6)\n",
            "Requirement already satisfied: sniffio in /usr/local/lib/python3.10/dist-packages (from httpx>=0.23.0->zhipuai) (1.3.0)\n",
            "Collecting h11<0.15,>=0.13 (from httpcore==1.*->httpx>=0.23.0->zhipuai)\n",
            "  Downloading h11-0.14.0-py3-none-any.whl (58 kB)\n",
            "\u001b[2K     \u001b[90m━━━━━━━━━━━━━━━━━━━━━━━━━━━━━━━━━━━━━━━━\u001b[0m \u001b[32m58.3/58.3 kB\u001b[0m \u001b[31m5.3 MB/s\u001b[0m eta \u001b[36m0:00:00\u001b[0m\n",
            "\u001b[?25hCollecting annotated-types>=0.4.0 (from pydantic>=2.5.2->zhipuai)\n",
            "  Downloading annotated_types-0.6.0-py3-none-any.whl (12 kB)\n",
            "Collecting pydantic-core==2.14.6 (from pydantic>=2.5.2->zhipuai)\n",
            "  Downloading pydantic_core-2.14.6-cp310-cp310-manylinux_2_17_x86_64.manylinux2014_x86_64.whl (2.1 MB)\n",
            "\u001b[2K     \u001b[90m━━━━━━━━━━━━━━━━━━━━━━━━━━━━━━━━━━━━━━━━\u001b[0m \u001b[32m2.1/2.1 MB\u001b[0m \u001b[31m9.4 MB/s\u001b[0m eta \u001b[36m0:00:00\u001b[0m\n",
            "\u001b[?25hCollecting typing-extensions>=4.6.1 (from pydantic>=2.5.2->zhipuai)\n",
            "  Downloading typing_extensions-4.9.0-py3-none-any.whl (32 kB)\n",
            "Requirement already satisfied: exceptiongroup in /usr/local/lib/python3.10/dist-packages (from anyio->httpx>=0.23.0->zhipuai) (1.2.0)\n",
            "Installing collected packages: typing-extensions, pyjwt, h11, annotated-types, pydantic-core, httpcore, pydantic, httpx, zhipuai\n",
            "  Attempting uninstall: typing-extensions\n",
            "    Found existing installation: typing_extensions 4.5.0\n",
            "    Uninstalling typing_extensions-4.5.0:\n",
            "      Successfully uninstalled typing_extensions-4.5.0\n",
            "  Attempting uninstall: pyjwt\n",
            "    Found existing installation: PyJWT 2.3.0\n",
            "    Uninstalling PyJWT-2.3.0:\n",
            "      Successfully uninstalled PyJWT-2.3.0\n",
            "  Attempting uninstall: pydantic\n",
            "    Found existing installation: pydantic 1.10.13\n",
            "    Uninstalling pydantic-1.10.13:\n",
            "      Successfully uninstalled pydantic-1.10.13\n",
            "\u001b[31mERROR: pip's dependency resolver does not currently take into account all the packages that are installed. This behaviour is the source of the following dependency conflicts.\n",
            "lida 0.0.10 requires fastapi, which is not installed.\n",
            "lida 0.0.10 requires kaleido, which is not installed.\n",
            "lida 0.0.10 requires python-multipart, which is not installed.\n",
            "lida 0.0.10 requires uvicorn, which is not installed.\n",
            "llmx 0.0.15a0 requires cohere, which is not installed.\n",
            "llmx 0.0.15a0 requires openai, which is not installed.\n",
            "llmx 0.0.15a0 requires tiktoken, which is not installed.\n",
            "tensorflow-probability 0.22.0 requires typing-extensions<4.6.0, but you have typing-extensions 4.9.0 which is incompatible.\u001b[0m\u001b[31m\n",
            "\u001b[0mSuccessfully installed annotated-types-0.6.0 h11-0.14.0 httpcore-1.0.2 httpx-0.26.0 pydantic-2.5.3 pydantic-core-2.14.6 pyjwt-2.8.0 typing-extensions-4.9.0 zhipuai-2.0.1\n"
          ]
        }
      ],
      "source": [
        "#安装智谱AI的Python库\n",
        "\n",
        "!pip install zhipuai"
      ]
    },
    {
      "cell_type": "code",
      "source": [
        "!pip install --upgrade zhipuai"
      ],
      "metadata": {
        "colab": {
          "base_uri": "https://localhost:8080/"
        },
        "id": "5w-hT-dyLluW",
        "outputId": "f48b11f0-c823-4df0-f44b-9f56e7a7b557"
      },
      "execution_count": 2,
      "outputs": [
        {
          "output_type": "stream",
          "name": "stdout",
          "text": [
            "Requirement already satisfied: zhipuai in /usr/local/lib/python3.10/dist-packages (2.0.1)\n",
            "Requirement already satisfied: httpx>=0.23.0 in /usr/local/lib/python3.10/dist-packages (from zhipuai) (0.26.0)\n",
            "Requirement already satisfied: pydantic>=2.5.2 in /usr/local/lib/python3.10/dist-packages (from zhipuai) (2.5.3)\n",
            "Requirement already satisfied: cachetools>=4.2.2 in /usr/local/lib/python3.10/dist-packages (from zhipuai) (5.3.2)\n",
            "Requirement already satisfied: pyjwt~=2.8.0 in /usr/local/lib/python3.10/dist-packages (from zhipuai) (2.8.0)\n",
            "Requirement already satisfied: anyio in /usr/local/lib/python3.10/dist-packages (from httpx>=0.23.0->zhipuai) (3.7.1)\n",
            "Requirement already satisfied: certifi in /usr/local/lib/python3.10/dist-packages (from httpx>=0.23.0->zhipuai) (2023.11.17)\n",
            "Requirement already satisfied: httpcore==1.* in /usr/local/lib/python3.10/dist-packages (from httpx>=0.23.0->zhipuai) (1.0.2)\n",
            "Requirement already satisfied: idna in /usr/local/lib/python3.10/dist-packages (from httpx>=0.23.0->zhipuai) (3.6)\n",
            "Requirement already satisfied: sniffio in /usr/local/lib/python3.10/dist-packages (from httpx>=0.23.0->zhipuai) (1.3.0)\n",
            "Requirement already satisfied: h11<0.15,>=0.13 in /usr/local/lib/python3.10/dist-packages (from httpcore==1.*->httpx>=0.23.0->zhipuai) (0.14.0)\n",
            "Requirement already satisfied: annotated-types>=0.4.0 in /usr/local/lib/python3.10/dist-packages (from pydantic>=2.5.2->zhipuai) (0.6.0)\n",
            "Requirement already satisfied: pydantic-core==2.14.6 in /usr/local/lib/python3.10/dist-packages (from pydantic>=2.5.2->zhipuai) (2.14.6)\n",
            "Requirement already satisfied: typing-extensions>=4.6.1 in /usr/local/lib/python3.10/dist-packages (from pydantic>=2.5.2->zhipuai) (4.9.0)\n",
            "Requirement already satisfied: exceptiongroup in /usr/local/lib/python3.10/dist-packages (from anyio->httpx>=0.23.0->zhipuai) (1.2.0)\n"
          ]
        }
      ]
    },
    {
      "cell_type": "code",
      "source": [
        "#引入智谱AI API\n",
        "\n",
        "from zhipuai import ZhipuAI\n",
        "client = ZhipuAI(api_key=\"\") # 填写您自己的APIKey"
      ],
      "metadata": {
        "id": "68klQpExVmHW"
      },
      "execution_count": 20,
      "outputs": []
    },
    {
      "cell_type": "code",
      "source": [
        "#尝试问第一个问题\n",
        "\n",
        "\n",
        "response = client.chat.completions.create(\n",
        "    model=\"glm-4\",  # 填写需要调用的模型名称\n",
        "    messages=[\n",
        "        {\"role\": \"user\", \"content\": \"你好\"},\n",
        "        {\"role\": \"assistant\", \"content\": \"我是人工智能助手\"},\n",
        "        {\"role\": \"user\", \"content\": \"你叫什么名字\"},\n",
        "        {\"role\": \"assistant\", \"content\": \"我叫chatGLM\"},\n",
        "        {\"role\": \"user\", \"content\": \"你都可以做些什么事\"}\n",
        "    ],\n",
        ")\n",
        "print(response.choices[0].message)"
      ],
      "metadata": {
        "colab": {
          "base_uri": "https://localhost:8080/"
        },
        "id": "HV9NOH78L2BM",
        "outputId": "3acc92a4-7639-4042-ef4a-f6678bd51e3c"
      },
      "execution_count": 13,
      "outputs": [
        {
          "output_type": "stream",
          "name": "stdout",
          "text": [
            "content='作为一个人工智能助手，我可以帮助您完成多种任务，包括但不限于：\\n\\n1. 回答问题：提供关于广泛主题的信息，包括科学、数学、历史、文化等。\\n2. 文本生成：撰写文章、故事、诗歌、报告等。\\n3. 语言翻译：翻译不同语言之间的文本。\\n4. 编程辅助：提供编程建议、代码示例和调试帮助。\\n5. 学习辅导：帮助理解复杂概念，提供学习资源。\\n6. 娱乐互动：进行对话、讲笑话、推荐电影和书籍等。\\n7. 生活建议：提供日常生活中的小建议，如健康、健身、饮食等。\\n8. 工作支持：辅助项目管理、时间规划、数据分析等。\\n\\n请注意，我的能力受限于我所接受的训练数据和算法的当前状态。我可能不总是能够提供完美的答案或解决所有问题，但我会尽力帮助您。' role='assistant' tool_calls=None\n"
          ]
        }
      ]
    },
    {
      "cell_type": "markdown",
      "source": [
        "**二、使用大语言模型完成文本翻译**"
      ],
      "metadata": {
        "id": "A6vcM8DjYyK_"
      }
    },
    {
      "cell_type": "code",
      "source": [
        "#尝试问一个翻译的问题\n",
        "\n",
        "response = client.chat.completions.create(\n",
        "    model=\"glm-4\",  # 填写需要调用的模型名称\n",
        "    messages=[\n",
        "        {\"role\": \"user\", \"content\": \"请将下面的句子翻译成中文：To be, or not to be, that is the question\"}\n",
        "    ],\n",
        ")\n",
        "print(response.choices[0].message)"
      ],
      "metadata": {
        "colab": {
          "base_uri": "https://localhost:8080/"
        },
        "id": "WVP0G1xkME3_",
        "outputId": "d87e5b96-f043-40b7-c4ee-96564162e4f6"
      },
      "execution_count": 4,
      "outputs": [
        {
          "output_type": "stream",
          "name": "stdout",
          "text": [
            "content='生存还是毁灭，这是一个值得考虑的问题。这句话出自莎士比亚的《哈姆雷特》。' role='assistant' tool_calls=None\n"
          ]
        }
      ]
    },
    {
      "cell_type": "code",
      "source": [
        "#这里需要了解JSON的基础知识，知道发送给LLM的是什么，接收到的是什么"
      ],
      "metadata": {
        "id": "pkOoz9nmM-Kw"
      },
      "execution_count": null,
      "outputs": []
    },
    {
      "cell_type": "markdown",
      "source": [
        "前往GLM的文档页面可以看到返回结果的说明：https://open.bigmodel.cn/dev/api#glm-4\n",
        "\n",
        "content：消息内容。其中包括了tool_calls字段,content字段为空。\n",
        "\n",
        "role：消息的角色信息，此时应为assistant\n",
        "\n",
        "tool_calls：模型产生的工具调用消息"
      ],
      "metadata": {
        "id": "4rnW02mfNRFH"
      }
    },
    {
      "cell_type": "code",
      "source": [
        "print(response.choices[0].message.content)"
      ],
      "metadata": {
        "colab": {
          "base_uri": "https://localhost:8080/"
        },
        "id": "bvQ6NCzfOSLc",
        "outputId": "7b74f2a7-acc6-4903-e4a0-8c09430916b9"
      },
      "execution_count": 6,
      "outputs": [
        {
          "output_type": "stream",
          "name": "stdout",
          "text": [
            "生存还是毁灭，这是一个值得考虑的问题。这句话出自莎士比亚的《哈姆雷特》。\n"
          ]
        }
      ]
    },
    {
      "cell_type": "code",
      "source": [
        "#生成一个Python列表，里面有三句莎士比亚的名句的英文版\n",
        "\n",
        "response = client.chat.completions.create(\n",
        "    model=\"glm-4\",  # 填写需要调用的模型名称\n",
        "    messages=[\n",
        "        {\"role\": \"user\", \"content\": \"生成一个Python列表，里面有三句莎士比亚的名句的英文版\"}\n",
        "    ],\n",
        ")\n",
        "print(response.choices[0].message.content)"
      ],
      "metadata": {
        "colab": {
          "base_uri": "https://localhost:8080/"
        },
        "id": "mmr0BAb8OqKu",
        "outputId": "4e510ffb-6779-4bef-ff39-6ffe37280f7d"
      },
      "execution_count": 7,
      "outputs": [
        {
          "output_type": "stream",
          "name": "stdout",
          "text": [
            "以下是包含三句莎士比亚名句的Python数组：\n",
            "\n",
            "```python\n",
            "shakespeare_quotes = [\n",
            "    \"To be, or not to be: that is the question. (Hamlet)\",\n",
            "    \"All the world's a stage, and all the men and women merely players. (As You Like It)\",\n",
            "    \"What's in a name? That which we call a rose by any other name would smell as sweet. (Romeo and Juliet)\"\n",
            "]\n",
            "```\n",
            "\n",
            "这里每句名句后面都附带了作品的名称，以便了解这句话出自哪部作品。\n"
          ]
        }
      ]
    },
    {
      "cell_type": "markdown",
      "source": [
        "shakespeare_quotes = [\n",
        "    \"To be, or not to be: that is the question. (Hamlet)\",\n",
        "    \"All the world's a stage, and all the men and women merely players. (As You Like It)\",\n",
        "    \"What's in a name? That which we call a rose by any other name would smell as sweet. (Romeo and Juliet)\"]\n",
        "\n",
        "主要步骤:\n",
        "\n",
        "1. 定义一个名为shakespeare_quotes 的列表变量\n",
        "2. 使用方括号[]定义列表\n",
        "3. 在列表中添加三个字符串元素,分别表示三句莎士比亚名句，列表元素中包含的字符串需要用双引号\"\"括起来。"
      ],
      "metadata": {
        "id": "J-hePmLEO3qT"
      }
    },
    {
      "cell_type": "code",
      "source": [
        "#遍历列表，逐句翻译\n",
        "\n",
        "shakespeare_quotes = [\n",
        "    \"To be, or not to be: that is the question. (Hamlet)\",\n",
        "    \"All the world's a stage, and all the men and women merely players. (As You Like It)\",\n",
        "    \"What's in a name? That which we call a rose by any other name would smell as sweet. (Romeo and Juliet)\"\n",
        "]\n",
        "\n",
        "for quote in shakespeare_quotes:\n",
        "  response = client.chat.completions.create(\n",
        "    model=\"glm-4\",\n",
        "    messages=[\n",
        "    {\"role\": \"user\", \"content\": f\"请将下面的句子翻译成中文:{quote}\"}\n",
        "    ],\n",
        "  )\n",
        "  print(response.choices[0].message.content)"
      ],
      "metadata": {
        "colab": {
          "base_uri": "https://localhost:8080/"
        },
        "id": "doLM3R0wPLAG",
        "outputId": "8d840ab4-4d29-4345-d1b0-9aa51890db45"
      },
      "execution_count": 10,
      "outputs": [
        {
          "output_type": "stream",
          "name": "stdout",
          "text": [
            "生存还是毁灭，这是一个值得考虑的问题。（《哈姆雷特》）\n",
            "这句话翻译成中文是：“全世界是一个舞台，所有的男男女女不过是其中的演员。”（出自莎士比亚的《皆大欢喜》）\n",
            "这句话翻译成中文是：“名字有什么关系呢？无论我们称之为玫瑰的东西叫做什么名字，它的香味依然甜蜜。”（出自《罗密欧与朱丽叶》）\n"
          ]
        }
      ]
    },
    {
      "cell_type": "markdown",
      "source": [
        "本案例涉及到的Python主要知识点包括：\n",
        "\n",
        "1. 使用Python安装和调用大语言模型API\n",
        "\n",
        "2. 读取和打印JSON格式的大语言模型响应数据\n",
        "\n",
        "3. Python列表的创建和遍历\n",
        "\n",
        "4. Python循环"
      ],
      "metadata": {
        "id": "b7eDpAHlPz74"
      }
    },
    {
      "cell_type": "markdown",
      "source": [
        "**三、使用大语言模型完成术语抽取**"
      ],
      "metadata": {
        "id": "5uXLm684VtXQ"
      }
    },
    {
      "cell_type": "code",
      "source": [
        "#使用智谱AI API 抽取并以JSON格式输出\n",
        "\n",
        "prompt = '''\n",
        "2022年11月4日，计算机系通过线上线下相结合的方式在东主楼10-103会议室召开博士研究生导师交流会。计算机学科学位分委员会主席吴空，计算机系副主任张建、党委副书记李伟出席会议，博士生研究生导师和教学办工作人员等30余人参加会议，会议由张建主持。\n",
        "请你提取包含“人\"(name, position)，“时间”，“事件\"，“地点”（location）类型的所有信息，并输出JSON格式\n",
        "\n",
        "'''\n",
        "\n",
        "response = client.chat.completions.create(\n",
        "    model=\"glm-4\",  # 填写需要调用的模型名称\n",
        "    messages=[\n",
        "        {\"role\": \"user\", \"content\": prompt}\n",
        "    ],\n",
        ")\n",
        "print(response.choices[0].message.content)"
      ],
      "metadata": {
        "colab": {
          "base_uri": "https://localhost:8080/"
        },
        "id": "tTATCb4qVvOz",
        "outputId": "5057d890-2a9d-4b29-c824-946be446462c"
      },
      "execution_count": 14,
      "outputs": [
        {
          "output_type": "stream",
          "name": "stdout",
          "text": [
            "以下是提取的信息，以JSON格式输出：\n",
            "\n",
            "```json\n",
            "{\n",
            "  \"人\": [\n",
            "    {\n",
            "      \"name\": \"吴空\",\n",
            "      \"position\": \"计算机学科学位分委员会主席\"\n",
            "    },\n",
            "    {\n",
            "      \"name\": \"张建\",\n",
            "      \"position\": \"计算机系副主任\"\n",
            "    },\n",
            "    {\n",
            "      \"name\": \"李伟\",\n",
            "      \"position\": \"党委副书记\"\n",
            "    },\n",
            "    {\n",
            "      \"name\": \"博士生研究生导师和教学办工作人员\",\n",
            "      \"position\": \"参会人员\",\n",
            "      \"number\": \"30余人\"\n",
            "    }\n",
            "  ],\n",
            "  \"时间\": \"2022年11月4日\",\n",
            "  \"事件\": \"博士研究生导师交流会\",\n",
            "  \"地点\": \"东主楼10-103会议室\",\n",
            "  \"主持人\": \"张建\"\n",
            "}\n",
            "```\n",
            "\n",
            "请注意，由于原始文本没有提供具体的参会人员名单，我使用了“博士生研究生导师和教学办工作人员”作为参会人员的描述，并估计了人数为“30余人”。如果需要更详细的信息，可能需要查阅具体的会议记录或其他相关文档。\n"
          ]
        }
      ]
    },
    {
      "cell_type": "code",
      "source": [
        "#使用智谱AI API 抽取并以JSON格式输出\n",
        "\n",
        "prompt = '''\n",
        "2022年11月4日，计算机系通过线上线下相结合的方式在东主楼10-103会议室召开博士研究生导师交流会。计算机学科学位分委员会主席吴空，计算机系副主任张建、党委副书记李伟出席会议，博士生研究生导师和教学办工作人员等30余人参加会议，会议由张建主持。\n",
        "请你提取这段话中的中文术语，并翻译成英文，给出中文解释，并输出JSON格式，参考样式为：\"chinese\":\"\",\"english\":\"\",\"explanation\":\"\"\n",
        "\n",
        "'''\n",
        "\n",
        "response = client.chat.completions.create(\n",
        "    model=\"glm-4\",  # 填写需要调用的模型名称\n",
        "    messages=[\n",
        "        {\"role\": \"user\", \"content\": prompt}\n",
        "    ],\n",
        ")\n",
        "print(response.choices[0].message.content)"
      ],
      "metadata": {
        "colab": {
          "base_uri": "https://localhost:8080/"
        },
        "id": "cv_5e43tWYQI",
        "outputId": "aaac0ec6-8a3a-4c59-a500-23bd440cf0ad"
      },
      "execution_count": 15,
      "outputs": [
        {
          "output_type": "stream",
          "name": "stdout",
          "text": [
            "以下是提取的中文术语及其英文翻译和解释，以JSON格式呈现：\n",
            "\n",
            "```json\n",
            "[\n",
            "  {\n",
            "    \"chinese\": \"计算机系\",\n",
            "    \"english\": \"Department of Computer Science\",\n",
            "    \"explanation\": \"The academic department that focuses on the study and research of computer science.\"\n",
            "  },\n",
            "  {\n",
            "    \"chinese\": \"线上线下相结合\",\n",
            "    \"english\": \"Combination of Online and Offline\",\n",
            "    \"explanation\": \"A method that integrates both online and offline approaches or activities.\"\n",
            "  },\n",
            "  {\n",
            "    \"chinese\": \"东主楼\",\n",
            "    \"english\": \"East Main Building\",\n",
            "    \"explanation\": \"A building on campus, possibly where the meeting was held, indicated by its direction and name.\"\n",
            "  },\n",
            "  {\n",
            "    \"chinese\": \"会议室\",\n",
            "    \"english\": \"Conference Room\",\n",
            "    \"explanation\": \"A room used for meetings, conferences, or discussions.\"\n",
            "  },\n",
            "  {\n",
            "    \"chinese\": \"学位分委员会\",\n",
            "    \"english\": \"Degree Subcommittee\",\n",
            "    \"explanation\": \"A subcommittee that deals with academic degrees, often responsible for making decisions regarding degree qualifications and standards.\"\n",
            "  },\n",
            "  {\n",
            "    \"chinese\": \"主席\",\n",
            "    \"english\": \"Chairman/Chair\",\n",
            "    \"explanation\": \"The person who leads or presides over a meeting or an organization.\"\n",
            "  },\n",
            "  {\n",
            "    \"chinese\": \"副主任\",\n",
            "    \"english\": \"Deputy Director\",\n",
            "    \"explanation\": \"The second-in-command or assistant director of an organization or department.\"\n",
            "  },\n",
            "  {\n",
            "    \"chinese\": \"党委副书记\",\n",
            "    \"english\": \"Deputy Party Secretary\",\n",
            "    \"explanation\": \"A position in the Communist Party of China, responsible for assisting the Party Secretary in managing the affairs of the Party organization.\"\n",
            "  },\n",
            "  {\n",
            "    \"chinese\": \"博士生研究生导师\",\n",
            "    \"english\": \"Doctoral Supervisor\",\n",
            "    \"explanation\": \"An academic advisor for doctoral students, guiding their research and academic progress.\"\n",
            "  },\n",
            "  {\n",
            "    \"chinese\": \"教学办工作人员\",\n",
            "    \"english\": \"Teaching Office Staff\",\n",
            "    \"explanation\": \"Employees who work in the teaching office, handling administrative tasks related to teaching and academic affairs.\"\n",
            "  }\n",
            "]\n",
            "```\n",
            "\n",
            "请注意，某些术语可能根据具体的上下文和地区有所不同，但上述翻译和解释是根据您提供的段落内容提供的。\n"
          ]
        }
      ]
    },
    {
      "cell_type": "code",
      "source": [
        "import re\n",
        "import json\n",
        "\n",
        "content = response.choices[0].message.content\n",
        "\n",
        "json_str = re.search(r'```json(.+?)```', content, re.S).group(1)\n",
        "\n",
        "data = json.loads(json_str)\n",
        "\n",
        "for term in data:\n",
        "  print(term[\"chinese\"], term[\"english\"], term[\"explanation\"])"
      ],
      "metadata": {
        "colab": {
          "base_uri": "https://localhost:8080/"
        },
        "id": "uCJwqMFTWyhp",
        "outputId": "66c7dfaa-2b86-4f6f-8cf9-16b786432f3f"
      },
      "execution_count": 18,
      "outputs": [
        {
          "output_type": "stream",
          "name": "stdout",
          "text": [
            "计算机系 Department of Computer Science The academic department that focuses on the study and research of computer science.\n",
            "线上线下相结合 Combination of Online and Offline A method that integrates both online and offline approaches or activities.\n",
            "东主楼 East Main Building A building on campus, possibly where the meeting was held, indicated by its direction and name.\n",
            "会议室 Conference Room A room used for meetings, conferences, or discussions.\n",
            "学位分委员会 Degree Subcommittee A subcommittee that deals with academic degrees, often responsible for making decisions regarding degree qualifications and standards.\n",
            "主席 Chairman/Chair The person who leads or presides over a meeting or an organization.\n",
            "副主任 Deputy Director The second-in-command or assistant director of an organization or department.\n",
            "党委副书记 Deputy Party Secretary A position in the Communist Party of China, responsible for assisting the Party Secretary in managing the affairs of the Party organization.\n",
            "博士生研究生导师 Doctoral Supervisor An academic advisor for doctoral students, guiding their research and academic progress.\n",
            "教学办工作人员 Teaching Office Staff Employees who work in the teaching office, handling administrative tasks related to teaching and academic affairs.\n"
          ]
        }
      ]
    },
    {
      "cell_type": "markdown",
      "source": [
        "本案例知识点：\n",
        "\n",
        "1. 使用LLM输出JSON格式的结构化输出\n",
        "2. 使用正则表达式从纯文本中提取JSON格式数据\n",
        "3. 遍历JSON并读取数据"
      ],
      "metadata": {
        "id": "XaPSzfq4YGne"
      }
    },
    {
      "cell_type": "markdown",
      "source": [
        "**四、基于术语完成机器翻译**"
      ],
      "metadata": {
        "id": "DEbPRvNxorut"
      }
    },
    {
      "cell_type": "code",
      "source": [
        "#未融合术语前\n",
        "\n",
        "source = \"北京语言大学高级翻译学院开设了翻译专业本科\"\n",
        "\n",
        "prompt = \"请将这句话翻译成英文：\" + source\n",
        "\n",
        "response = client.chat.completions.create(\n",
        "    model=\"glm-4\",  # 填写需要调用的模型名称\n",
        "    messages=[\n",
        "        {\"role\": \"user\", \"content\": prompt}\n",
        "    ],\n",
        ")\n",
        "print(response.choices[0].message.content)"
      ],
      "metadata": {
        "colab": {
          "base_uri": "https://localhost:8080/"
        },
        "id": "c4d_tHEZo4YV",
        "outputId": "d79d3f7b-6a06-4fb0-b375-a7ba104e5394"
      },
      "execution_count": 21,
      "outputs": [
        {
          "output_type": "stream",
          "name": "stdout",
          "text": [
            "Beijing Language and Culture University's School of Advanced Translation has established an undergraduate major in translation.\n"
          ]
        }
      ]
    },
    {
      "cell_type": "code",
      "source": [
        "#融合术语后\n",
        "\n",
        "source = \"北京语言大学高级翻译学院开设了翻译专业本科\"\n",
        "\n",
        "prompt = \"请将这句话翻译成英文：【\" + source + \"】，并严格参照以下术语：【北京语言大学：Beijing Language and Culture University】【高级翻译学院：School of Translation and Interpreting】【翻译专业本科: BTI program】\"\n",
        "\n",
        "response = client.chat.completions.create(\n",
        "    model=\"glm-4\",  # 填写需要调用的模型名称\n",
        "    messages=[\n",
        "        {\"role\": \"user\", \"content\": prompt}\n",
        "    ],\n",
        ")\n",
        "print(response.choices[0].message.content)"
      ],
      "metadata": {
        "colab": {
          "base_uri": "https://localhost:8080/"
        },
        "id": "iXUC0scGphGy",
        "outputId": "6be8b527-604b-4896-8957-72e792cf4a50"
      },
      "execution_count": 23,
      "outputs": [
        {
          "output_type": "stream",
          "name": "stdout",
          "text": [
            "The Beijing Language and Culture University has established a Bachelor's program in Translation (BTI program) at the School of Translation and Interpreting.\n"
          ]
        }
      ]
    },
    {
      "cell_type": "code",
      "source": [
        "#将术语放到列表中\n",
        "\n",
        "terms = {\n",
        "\"北京语言大学\": \"Beijing Language and Culture University\",\n",
        "\"高级翻译学院\": \"School of Translation and Interpreting\",\n",
        "\"翻译专业本科\": \"BTI program\"\n",
        "}\n",
        "\n",
        "\n",
        "source = \"北京语言大学高级翻译学院开设了翻译专业本科\"\n",
        "\n",
        "termlist = \"\"\n",
        "\n",
        "for k,v in terms.items():\n",
        "  termlist += f\"\\n【{k}:{v}】\"\n",
        "\n",
        "prompt = f\"请将这句话翻译成英文:【{source}】,并严格参照以下术语:\" + termlist\n",
        "\n",
        "\n",
        "response = client.chat.completions.create(\n",
        "    model=\"glm-4\",  # 填写需要调用的模型名称\n",
        "    messages=[\n",
        "        {\"role\": \"user\", \"content\": prompt}\n",
        "    ],\n",
        ")\n",
        "print(response.choices[0].message.content)"
      ],
      "metadata": {
        "colab": {
          "base_uri": "https://localhost:8080/"
        },
        "id": "RTHUu5-tqY0_",
        "outputId": "dcd2c4f6-2c6d-463c-efde-f05c8258e7a4"
      },
      "execution_count": 24,
      "outputs": [
        {
          "output_type": "stream",
          "name": "stdout",
          "text": [
            "The Beijing Language and Culture University has established an undergraduate program in translation in the School of Translation and Interpreting, known as the BTI program.\n"
          ]
        }
      ]
    },
    {
      "cell_type": "code",
      "source": [
        "#从Excel表格中读取术语\n",
        "\n",
        "import pandas as pd\n",
        "\n",
        "#从Excel表格读取术语\n",
        "terms_df = pd.read_excel('terms.xlsx')\n",
        "\n",
        "#把数据框转换成字典\n",
        "terms = dict(zip(terms_df['中文'], terms_df['英文']))\n",
        "\n",
        "source = \"北京语言大学高级翻译学院开设了翻译专业本科\"\n",
        "\n",
        "termlist = \"\"\n",
        "\n",
        "for k,v in terms.items():\n",
        "  termlist += f\"\\n【{k}:{v}】\"\n",
        "\n",
        "prompt = f\"请将这句话翻译成英文:【{source}】,并严格参照以下术语:\" + termlist\n",
        "\n",
        "\n",
        "response = client.chat.completions.create(\n",
        "    model=\"glm-4\",  # 填写需要调用的模型名称\n",
        "    messages=[\n",
        "        {\"role\": \"user\", \"content\": prompt}\n",
        "    ],\n",
        ")\n",
        "print(response.choices[0].message.content)\n"
      ],
      "metadata": {
        "colab": {
          "base_uri": "https://localhost:8080/"
        },
        "id": "WEo8MDOlrSsd",
        "outputId": "34b68170-43aa-4d3b-b971-8da1a2934d48"
      },
      "execution_count": 25,
      "outputs": [
        {
          "output_type": "stream",
          "name": "stdout",
          "text": [
            "The Beijing Language and Culture University has established an undergraduate program in translation in the School of Translation and Interpreting, referred to as the BTI program.\n"
          ]
        }
      ]
    },
    {
      "cell_type": "code",
      "source": [
        "#从Excel表格中读取术语，与当前句子进行匹配，并将出现在术语表中的术语整合到prompt中\n",
        "\n",
        "import pandas as pd\n",
        "\n",
        "#从Excel表格读取术语\n",
        "terms_df = pd.read_excel('terms.xlsx')\n",
        "\n",
        "#把数据框转换成字典\n",
        "terms = dict(zip(terms_df['中文'], terms_df['英文']))\n",
        "\n",
        "source = \"北京外国语大学高级翻译学院没有开设翻译专业本科\"\n",
        "\n",
        "termlist = \"\"\n",
        "\n",
        "for k,v in terms.items():\n",
        "  if k in source:\n",
        "    termlist += f\"\\n【{k}:{v}】\"\n",
        "\n",
        "prompt = f\"请将这句话翻译成英文:【{source}】,并严格参照以下术语:\" + termlist\n",
        "\n",
        "print(prompt)\n",
        "\n",
        "response = client.chat.completions.create(\n",
        "    model=\"glm-4\",  # 填写需要调用的模型名称\n",
        "    messages=[\n",
        "        {\"role\": \"user\", \"content\": prompt}\n",
        "    ],\n",
        ")\n",
        "print(response.choices[0].message.content)\n"
      ],
      "metadata": {
        "colab": {
          "base_uri": "https://localhost:8080/"
        },
        "id": "5bp-9HNHss7l",
        "outputId": "9d60066d-779c-45d6-d629-efa95bcaf534"
      },
      "execution_count": 26,
      "outputs": [
        {
          "output_type": "stream",
          "name": "stdout",
          "text": [
            "请将这句话翻译成英文:【北京外国语大学高级翻译学院没有开设翻译专业本科】,并严格参照以下术语:\n",
            "【高级翻译学院:School of Translation and Interpreting】\n",
            "【翻译专业本科:BTI program】\n",
            "The School of Translation and Interpreting at Beijing Foreign Studies University does not offer an undergraduate program in translation, referred to as the BTI program.\n"
          ]
        }
      ]
    },
    {
      "cell_type": "code",
      "source": [
        "#对一个句子列表进行遍历\n",
        "\n",
        "#从Excel表格中读取术语，与当前句子进行匹配，并将出现在术语表中的术语整合到prompt中\n",
        "\n",
        "import pandas as pd\n",
        "\n",
        "#从Excel表格读取术语\n",
        "terms_df = pd.read_excel('terms.xlsx')\n",
        "\n",
        "#把数据框转换成字典\n",
        "terms = dict(zip(terms_df['中文'], terms_df['英文']))\n",
        "\n",
        "sources = [\n",
        "  \"北京语言大学高级翻译学院开设了翻译专业本科\",\n",
        "  \"北京外国语大学高级翻译学院没有开设翻译专业本科\"\n",
        "  ]\n",
        "\n",
        "for source in sources:\n",
        "\n",
        "  termlist = \"\"\n",
        "\n",
        "  for k,v in terms.items():\n",
        "    if k in source:\n",
        "      termlist += f\"\\n【{k}:{v}】\"\n",
        "\n",
        "  prompt = f\"请将这句话翻译成英文:【{source}】,并严格参照以下术语:\" + termlist\n",
        "\n",
        "  print(prompt)\n",
        "\n",
        "  response = client.chat.completions.create(\n",
        "      model=\"glm-4\",  # 填写需要调用的模型名称\n",
        "      messages=[\n",
        "          {\"role\": \"user\", \"content\": prompt}\n",
        "      ],\n",
        "  )\n",
        "  print(response.choices[0].message.content)\n"
      ],
      "metadata": {
        "colab": {
          "base_uri": "https://localhost:8080/"
        },
        "id": "ToUDWFbZsMLS",
        "outputId": "0cd1df0f-2bb0-4e3c-b31e-9d456f5cc6f1"
      },
      "execution_count": 27,
      "outputs": [
        {
          "output_type": "stream",
          "name": "stdout",
          "text": [
            "请将这句话翻译成英文:【北京语言大学高级翻译学院开设了翻译专业本科】,并严格参照以下术语:\n",
            "【北京语言大学:Beijing Language and Culture University】\n",
            "【高级翻译学院:School of Translation and Interpreting】\n",
            "【翻译专业本科:BTI program】\n",
            "The Beijing Language and Culture University has established an undergraduate program in translation in the School of Translation and Interpreting, referred to as the BTI program.\n",
            "请将这句话翻译成英文:【北京外国语大学高级翻译学院没有开设翻译专业本科】,并严格参照以下术语:\n",
            "【高级翻译学院:School of Translation and Interpreting】\n",
            "【翻译专业本科:BTI program】\n",
            "The School of Translation and Interpreting at Beijing Foreign Studies University does not offer an undergraduate program in translation, known as the BTI program.\n"
          ]
        }
      ]
    },
    {
      "cell_type": "markdown",
      "source": [
        "| 中文     | 英文                                      | 翻译建议                                                                                                                   |\n",
        "| ------ | --------------------------------------- | ---------------------------------------------------------------------------------------------------------------------- |\n",
        "| 北京语言大学 | Beijing Language and Culture University |\n",
        "| 高级翻译学院 | School of Translation and Interpreting  | 北京语言大学的高级翻译学院是School of Translation and Interpreting，北京外国语大学的高级翻译学院是：Graduate School of Translation and Interpretation |\n",
        "| 翻译专业本科 | BTI program                             |"
      ],
      "metadata": {
        "id": "4W5RRHMcvTO-"
      }
    },
    {
      "cell_type": "code",
      "source": [
        "#完善Excel表格，给术语添加翻译建议\n",
        "\n",
        "#高级翻译学院：北京语言大学的高级翻译学院是School of Translation and Interpreting，北京外国语大学的高级翻译学院是：Graduate School of Translation and Interpretation\n",
        "\n",
        "import pandas as pd\n",
        "\n",
        "# 从Excel表格读取术语\n",
        "terms_df = pd.read_excel('terms_with_reference.xlsx')\n",
        "\n",
        "# 以中文为key,英文为值的字典\n",
        "terms = dict(zip(terms_df['中文'], terms_df['英文']))\n",
        "\n",
        "# 另外保存翻译建议\n",
        "reference = dict(zip(terms_df['中文'], terms_df['翻译建议']))\n",
        "\n",
        "#对一个句子列表进行遍历\n",
        "sources = [\n",
        "  \"北京语言大学高级翻译学院开设了翻译专业本科\",\n",
        "  \"北京外国语大学高级翻译学院没有开设翻译专业本科\"\n",
        "  ]\n",
        "\n",
        "for source in sources:\n",
        "\n",
        "  termlist = \"\"\n",
        "\n",
        "  reference_str = \"\"\n",
        "\n",
        "  for k,v in terms.items():\n",
        "    if k in source:\n",
        "      termlist += f\"\\n【{k}:{v}】\"\n",
        "\n",
        "  # 添加翻译建议到提示中，跳过NaN值\n",
        "  for k, ref in reference.items():\n",
        "    if k in source and pd.notnull(ref):  # 使用pd.notnull()检查ref是否不是NaN\n",
        "      reference_str += f\"\\n【{k}:{ref}】\"\n",
        "\n",
        "  prompt = f\"请将这句话翻译成英文:【{source}】,并严格参照以下术语:{termlist},并参考以下翻译建议:{reference_str}\"\n",
        "\n",
        "  print(prompt)\n",
        "\n",
        "  response = client.chat.completions.create(\n",
        "      model=\"glm-4\",  # 填写需要调用的模型名称\n",
        "      messages=[\n",
        "          {\"role\": \"user\", \"content\": prompt}\n",
        "      ],\n",
        "  )\n",
        "  print(response.choices[0].message.content)\n"
      ],
      "metadata": {
        "colab": {
          "base_uri": "https://localhost:8080/"
        },
        "id": "8Lyfggm3uecH",
        "outputId": "2d5c6ee8-6253-45ed-b911-bd6587ced7e9"
      },
      "execution_count": 41,
      "outputs": [
        {
          "output_type": "stream",
          "name": "stdout",
          "text": [
            "请将这句话翻译成英文:【北京语言大学高级翻译学院开设了翻译专业本科】,并严格参照以下术语:\n",
            "【北京语言大学:Beijing Language and Culture University】\n",
            "【高级翻译学院:School of Translation and Interpreting】\n",
            "【翻译专业本科:BTI program】,并参考以下翻译建议:\n",
            "【高级翻译学院:北京语言大学的高级翻译学院是School of Translation and Interpreting，北京外国语大学的高级翻译学院是：Graduate School of Translation and Interpretation】\n",
            "The School of Translation and Interpreting at Beijing Language and Culture University has established the Bachelor's program in Translation (BTI program), adhering strictly to the following terminology:\n",
            "- Beijing Language and Culture University: Beijing Language and Culture University\n",
            "- 高级翻译学院: School of Translation and Interpreting\n",
            "- 翻译专业本科: BTI program\n",
            "\n",
            "Furthermore, considering the translation suggestions provided:\n",
            "- The School of Translation and Interpreting at Beijing Language and Culture University is referred to as School of Translation and Interpreting, whereas the advanced translation school at Beijing Foreign Studies University is referred to as Graduate School of Translation and Interpretation.\n",
            "请将这句话翻译成英文:【北京外国语大学高级翻译学院没有开设翻译专业本科】,并严格参照以下术语:\n",
            "【高级翻译学院:School of Translation and Interpreting】\n",
            "【翻译专业本科:BTI program】,并参考以下翻译建议:\n",
            "【高级翻译学院:北京语言大学的高级翻译学院是School of Translation and Interpreting，北京外国语大学的高级翻译学院是：Graduate School of Translation and Interpretation】\n",
            "The Graduate School of Translation and Interpretation at Beijing Foreign Studies University does not offer an undergraduate program in translation, known as the BTI program.\n"
          ]
        }
      ]
    },
    {
      "cell_type": "code",
      "source": [
        "#将译文输出后与sources合并\n",
        "\n",
        "import pandas as pd\n",
        "\n",
        "# 从Excel表格读取术语\n",
        "terms_df = pd.read_excel('terms_with_reference.xlsx')\n",
        "\n",
        "# 以中文为key,英文为值的字典\n",
        "terms = dict(zip(terms_df['中文'], terms_df['英文']))\n",
        "\n",
        "# 另外保存翻译建议\n",
        "reference = dict(zip(terms_df['中文'], terms_df['翻译建议']))\n",
        "\n",
        "#对一个句子列表进行遍历\n",
        "sources = [\n",
        "  \"北京语言大学高级翻译学院开设了翻译专业本科\",\n",
        "  \"北京外国语大学高级翻译学院没有开设翻译专业本科\"\n",
        "  ]\n",
        "\n",
        "# 原文和译文对应的列表\n",
        "translated_pairs = []\n",
        "\n",
        "for source in sources:\n",
        "\n",
        "  termlist = \"\"\n",
        "\n",
        "  reference_str = \"\"\n",
        "\n",
        "  for k,v in terms.items():\n",
        "    if k in source:\n",
        "      termlist += f\"\\n【{k}:{v}】\"\n",
        "\n",
        "  # 添加翻译建议到提示中，跳过NaN值\n",
        "  for k, ref in reference.items():\n",
        "    if k in source and pd.notnull(ref):  # 使用pd.notnull()检查ref是否不是NaN\n",
        "      reference_str += f\"\\n【{k}:{ref}】\"\n",
        "\n",
        "  prompt = f\"请将这句话翻译成英文:【{source}】，并严格参照以下术语:{termlist}，并参考以下翻译建议:{reference_str}。最后仅输出译文即可。\"\n",
        "\n",
        "  #print(prompt)\n",
        "\n",
        "  response = client.chat.completions.create(\n",
        "      model=\"glm-4\",  # 填写需要调用的模型名称\n",
        "      messages=[\n",
        "          {\"role\": \"user\", \"content\": prompt}\n",
        "      ],\n",
        "  )\n",
        "  #print(response.choices[0].message.content)\n",
        "\n",
        "  translation = response.choices[0].message.content\n",
        "\n",
        "  # 将原文和译文作为一个元组添加到列表中\n",
        "  translated_pairs.append((source, translation))\n",
        "\n",
        "# 打印原文和译文对应的列表\n",
        "for pair in translated_pairs:\n",
        "    print(f\"原文: {pair[0]}\")\n",
        "    print(f\"译文: {pair[1]}\\n\")"
      ],
      "metadata": {
        "colab": {
          "base_uri": "https://localhost:8080/"
        },
        "id": "GZ3i37Blz_FS",
        "outputId": "7b825067-a233-42ef-a7c9-f3ff99a9f184"
      },
      "execution_count": 46,
      "outputs": [
        {
          "output_type": "stream",
          "name": "stdout",
          "text": [
            "原文: 北京语言大学高级翻译学院开设了翻译专业本科\n",
            "译文: The School of Translation and Interpreting at Beijing Language and Culture University has established the BTI program.\n",
            "\n",
            "原文: 北京外国语大学高级翻译学院没有开设翻译专业本科\n",
            "译文: The Graduate School of Translation and Interpretation at Beijing Foreign Studies University does not offer a BTI program.\n",
            "\n"
          ]
        }
      ]
    },
    {
      "cell_type": "code",
      "source": [
        "#将待译的原文也放入一个Excel表格中\n",
        "\n",
        "import pandas as pd\n",
        "\n",
        "# 读取Excel文件，假设第一列是我们想要的中文句子\n",
        "sources_df = pd.read_excel('source.xlsx')  # usecols=[0]表示只读取第一列，skiprows=[0]表示跳过第一行\n",
        "\n",
        "# 将第一列的数据转换成一个列表，这将包含您的中文句子\n",
        "sources = sources_df.iloc[:, 0].tolist()\n",
        "\n",
        "# 从Excel表格读取术语\n",
        "terms_df = pd.read_excel('terms_with_reference.xlsx')\n",
        "\n",
        "# 以中文为key,英文为值的字典\n",
        "terms = dict(zip(terms_df['中文'], terms_df['英文']))\n",
        "\n",
        "# 另外保存翻译建议\n",
        "reference = dict(zip(terms_df['中文'], terms_df['翻译建议']))\n",
        "\n",
        "# 原文和译文对应的列表\n",
        "translated_pairs = []\n",
        "\n",
        "for source in sources:\n",
        "\n",
        "  termlist = \"\"\n",
        "\n",
        "  reference_str = \"\"\n",
        "\n",
        "  for k,v in terms.items():\n",
        "    if k in source:\n",
        "      termlist += f\"\\n【{k}:{v}】\"\n",
        "\n",
        "  # 添加翻译建议到提示中，跳过NaN值\n",
        "  for k, ref in reference.items():\n",
        "    if k in source and pd.notnull(ref):  # 使用pd.notnull()检查ref是否不是NaN\n",
        "      reference_str += f\"\\n【{k}:{ref}】\"\n",
        "\n",
        "  prompt = f\"请将这句话翻译成英文:【{source}】，并严格参照以下术语:{termlist}，并参考以下翻译建议:{reference_str}。最后仅输出译文即可。\"\n",
        "\n",
        "  #print(prompt)\n",
        "\n",
        "  response = client.chat.completions.create(\n",
        "      model=\"glm-4\",  # 填写需要调用的模型名称\n",
        "      messages=[\n",
        "          {\"role\": \"user\", \"content\": prompt}\n",
        "      ],\n",
        "  )\n",
        "  #print(response.choices[0].message.content)\n",
        "\n",
        "  translation = response.choices[0].message.content\n",
        "\n",
        "  # 将原文和译文作为一个元组添加到列表中\n",
        "  translated_pairs.append((source, translation))\n",
        "\n",
        "# 打印原文和译文对应的列表\n",
        "for pair in translated_pairs:\n",
        "    print(f\"原文: {pair[0]}\")\n",
        "    print(f\"译文: {pair[1]}\\n\")"
      ],
      "metadata": {
        "colab": {
          "base_uri": "https://localhost:8080/"
        },
        "id": "Y_dqv_0m2BP9",
        "outputId": "15c01638-2001-405e-ae35-7b9a34073516"
      },
      "execution_count": 49,
      "outputs": [
        {
          "output_type": "stream",
          "name": "stdout",
          "text": [
            "原文: 北京语言大学高级翻译学院开设了翻译专业本科。\n",
            "译文: The Beijing Language and Culture University has established a BTI program in the School of Translation and Interpreting.\n",
            "\n",
            "原文: 北京外国语大学高级翻译学院没有开设翻译专业本科。\n",
            "译文: The Graduate School of Translation and Interpretation at Beijing Foreign Studies University does not offer an undergraduate BTI program.\n",
            "\n"
          ]
        }
      ]
    },
    {
      "cell_type": "code",
      "source": [
        "#将译文插入Excel表格的第二列\n",
        "\n",
        "import pandas as pd\n",
        "\n",
        "# 读取Excel文件，假设第一列是我们想要的中文句子\n",
        "sources_df = pd.read_excel('source.xlsx')  # usecols=[0]表示只读取第一列，skiprows=[0]表示跳过第一行\n",
        "\n",
        "# 从Excel表格读取术语\n",
        "terms_df = pd.read_excel('terms_with_reference.xlsx')\n",
        "\n",
        "# 以中文为key,英文为值的字典\n",
        "terms = dict(zip(terms_df['中文'], terms_df['英文']))\n",
        "\n",
        "# 另外保存翻译建议\n",
        "reference = dict(zip(terms_df['中文'], terms_df['翻译建议']))\n",
        "\n",
        "# 遍历sources_df中的每一行\n",
        "for i, row in sources_df.iterrows():\n",
        "  source = row[0]  # 假设中文句子位于第一列\n",
        "  termlist = \"\"\n",
        "  reference_str = \"\"\n",
        "\n",
        "  for k,v in terms.items():\n",
        "    if k in source:\n",
        "      termlist += f\"\\n【{k}:{v}】\"\n",
        "\n",
        "  # 添加翻译建议到提示中，跳过NaN值\n",
        "  for k, ref in reference.items():\n",
        "    if k in source and pd.notnull(ref):  # 使用pd.notnull()检查ref是否不是NaN\n",
        "      reference_str += f\"\\n【{k}:{ref}】\"\n",
        "\n",
        "  prompt = f\"请将这句话翻译成英文:【{source}】，并严格参照以下术语:{termlist}，并参考以下翻译建议:{reference_str}。最后仅输出译文即可。\"\n",
        "\n",
        "  #print(prompt)\n",
        "\n",
        "  response = client.chat.completions.create(\n",
        "      model=\"glm-4\",  # 填写需要调用的模型名称\n",
        "      messages=[\n",
        "          {\"role\": \"user\", \"content\": prompt}\n",
        "      ],\n",
        "  )\n",
        "  #print(response.choices[0].message.content)\n",
        "\n",
        "  translation = response.choices[0].message.content\n",
        "\n",
        "  # 将译文插入source_df中\n",
        "  sources_df.at[i, '英文'] = translation\n",
        "\n",
        "# 打印原文和译文对应的列表\n",
        "for index, row in sources_df.iterrows():\n",
        "    print(f\"原文: {row[0]}\")  # 假设中文句子位于第一列\n",
        "    print(f\"译文: {row['英文']}\\n\")  # 假设翻译结果位于名为“英文”的新列\n",
        "\n",
        "# 保存修改后的DataFrame回Excel文件\n",
        "sources_df.to_excel('translated_source.xlsx', index=False)"
      ],
      "metadata": {
        "colab": {
          "base_uri": "https://localhost:8080/"
        },
        "id": "kHIE_fdS3C2J",
        "outputId": "cb8c569d-2500-413c-8b82-5460228e0de0"
      },
      "execution_count": 50,
      "outputs": [
        {
          "output_type": "stream",
          "name": "stdout",
          "text": [
            "原文: 北京语言大学高级翻译学院开设了翻译专业本科。\n",
            "译文: The School of Translation and Interpreting at Beijing Language and Culture University has launched the BTI program.\n",
            "\n",
            "原文: 北京外国语大学高级翻译学院没有开设翻译专业本科。\n",
            "译文: The Graduate School of Translation and Interpretation at Beijing Foreign Studies University does not offer an undergraduate BTI program.\n",
            "\n"
          ]
        }
      ]
    },
    {
      "cell_type": "markdown",
      "source": [
        "**五、调用外部机器翻译**"
      ],
      "metadata": {
        "id": "J5Uicv8t67L3"
      }
    },
    {
      "cell_type": "code",
      "source": [
        "#调用百度翻译\n",
        "\n",
        "# -*- coding: utf-8 -*-\n",
        "\n",
        "# This code shows an example of text translation from English to Simplified-Chinese.\n",
        "# This code runs on Python 2.7.x and Python 3.x.\n",
        "# You may install `requests` to run this code: pip install requests\n",
        "# Please refer to `https://api.fanyi.baidu.com/doc/21` for complete api document\n",
        "\n",
        "import requests\n",
        "import random\n",
        "import json\n",
        "from hashlib import md5\n",
        "\n",
        "# Set your own appid/appkey.\n",
        "appid = ''\n",
        "appkey = ''\n",
        "\n",
        "# For list of language codes, please refer to `https://api.fanyi.baidu.com/doc/21`\n",
        "from_lang = 'zh'\n",
        "to_lang =  'en'\n",
        "\n",
        "endpoint = 'http://api.fanyi.baidu.com'\n",
        "path = '/api/trans/vip/translate'\n",
        "url = endpoint + path\n",
        "\n",
        "query = '北京语言大学高级翻译学院开设了翻译专业本科。'\n",
        "\n",
        "# Generate salt and sign\n",
        "def make_md5(s, encoding='utf-8'):\n",
        "    return md5(s.encode(encoding)).hexdigest()\n",
        "\n",
        "salt = random.randint(32768, 65536)\n",
        "sign = make_md5(appid + query + str(salt) + appkey)\n",
        "\n",
        "# Build request\n",
        "headers = {'Content-Type': 'application/x-www-form-urlencoded'}\n",
        "payload = {'appid': appid, 'q': query, 'from': from_lang, 'to': to_lang, 'salt': salt, 'sign': sign}\n",
        "\n",
        "# Send request\n",
        "r = requests.post(url, params=payload, headers=headers)\n",
        "result = r.json()\n",
        "\n",
        "# Show response\n",
        "print(json.dumps(result, indent=4, ensure_ascii=False))\n",
        "\n"
      ],
      "metadata": {
        "colab": {
          "base_uri": "https://localhost:8080/"
        },
        "id": "IYFnbhiM7Cbd",
        "outputId": "d9079ba7-9372-4e8c-b665-a8368e9ffb2b"
      },
      "execution_count": 53,
      "outputs": [
        {
          "output_type": "stream",
          "name": "stdout",
          "text": [
            "{\n",
            "    \"from\": \"zh\",\n",
            "    \"to\": \"en\",\n",
            "    \"trans_result\": [\n",
            "        {\n",
            "            \"src\": \"北京语言大学高级翻译学院开设了翻译专业本科。\",\n",
            "            \"dst\": \"The School of Advanced Translation at Beijing Language and Culture University offers a bachelor's degree in translation.\"\n",
            "        }\n",
            "    ]\n",
            "}\n"
          ]
        }
      ]
    },
    {
      "cell_type": "code",
      "source": [
        "#将百度翻译的官方代码转换成一个函数\n",
        "\n",
        "import requests\n",
        "import random\n",
        "from hashlib import md5\n",
        "import json\n",
        "\n",
        "# Set your own appid/appkey.\n",
        "appid = ''\n",
        "appkey = ''\n",
        "\n",
        "# For list of language codes, please refer to `https://api.fanyi.baidu.com/doc/21`\n",
        "endpoint = 'http://api.fanyi.baidu.com'\n",
        "path = '/api/trans/vip/translate'\n",
        "\n",
        "# Function to generate md5 hash\n",
        "def make_md5(s, encoding='utf-8'):\n",
        "    return md5(s.encode(encoding)).hexdigest()\n",
        "\n",
        "# The main translation function\n",
        "def baidu_translate(query, from_lang, to_lang):\n",
        "    url = endpoint + path\n",
        "\n",
        "    # Generate salt and sign\n",
        "    salt = random.randint(32768, 65536)\n",
        "    sign = make_md5(appid + query + str(salt) + appkey)\n",
        "\n",
        "    # Build request\n",
        "    headers = {'Content-Type': 'application/x-www-form-urlencoded'}\n",
        "    payload = {'appid': appid, 'q': query, 'from': from_lang, 'to': to_lang, 'salt': salt, 'sign': sign}\n",
        "\n",
        "    # Send request\n",
        "    r = requests.post(url, params=payload, headers=headers)\n",
        "    result = r.json()\n",
        "\n",
        "    # Extract and return the translated text\n",
        "    return result['trans_result'][0]['dst']\n",
        "\n",
        "# Example usage:\n",
        "translated_text = baidu_translate('北京语言大学高级翻译学院开设了翻译专业本科。', 'zh', 'en')\n",
        "print(translated_text)\n"
      ],
      "metadata": {
        "colab": {
          "base_uri": "https://localhost:8080/"
        },
        "id": "lsm4roKr8lpw",
        "outputId": "921f51c0-4371-4dc2-8ace-364bed9c5c0a"
      },
      "execution_count": 54,
      "outputs": [
        {
          "output_type": "stream",
          "name": "stdout",
          "text": [
            "The School of Advanced Translation at Beijing Language and Culture University offers a bachelor's degree in translation.\n"
          ]
        }
      ]
    },
    {
      "cell_type": "code",
      "source": [
        "#将百度的baidu_translate()函数与之前的函数相结合，用百度翻译来翻译Excel表格的第一列，然后将译文放到输出文档的第三列，并标识为“百度翻译”\n",
        "\n",
        "import pandas as pd\n",
        "\n",
        "# 读取Excel文件，假设第一列是我们想要的中文句子\n",
        "sources_df = pd.read_excel('source.xlsx')  # usecols=[0]表示只读取第一列，skiprows=[0]表示跳过第一行\n",
        "\n",
        "# 从Excel表格读取术语\n",
        "terms_df = pd.read_excel('terms_with_reference.xlsx')\n",
        "\n",
        "# 以中文为key,英文为值的字典\n",
        "terms = dict(zip(terms_df['中文'], terms_df['英文']))\n",
        "\n",
        "# 另外保存翻译建议\n",
        "reference = dict(zip(terms_df['中文'], terms_df['翻译建议']))\n",
        "\n",
        "# 遍历sources_df中的每一行\n",
        "for i, row in sources_df.iterrows():\n",
        "  source = row[0]  # 假设中文句子位于第一列\n",
        "  termlist = \"\"\n",
        "  reference_str = \"\"\n",
        "\n",
        "  for k,v in terms.items():\n",
        "    if k in source:\n",
        "      termlist += f\"\\n【{k}:{v}】\"\n",
        "\n",
        "  # 添加翻译建议到提示中，跳过NaN值\n",
        "  for k, ref in reference.items():\n",
        "    if k in source and pd.notnull(ref):  # 使用pd.notnull()检查ref是否不是NaN\n",
        "      reference_str += f\"\\n【{k}:{ref}】\"\n",
        "\n",
        "  prompt = f\"请将这句话翻译成英文:【{source}】，并严格参照以下术语:{termlist}，并参考以下翻译建议:{reference_str}。最后仅输出译文即可。\"\n",
        "\n",
        "  #print(prompt)\n",
        "\n",
        "  response = client.chat.completions.create(\n",
        "      model=\"glm-4\",  # 填写需要调用的模型名称\n",
        "      messages=[\n",
        "          {\"role\": \"user\", \"content\": prompt}\n",
        "      ],\n",
        "  )\n",
        "  #print(response.choices[0].message.content)\n",
        "\n",
        "  translation = response.choices[0].message.content\n",
        "\n",
        "  # 将译文插入source_df中\n",
        "  sources_df.at[i, 'GLM译文'] = translation\n",
        "\n",
        "  # 使用baidu_translate函数进行翻译\n",
        "  translation_baidu = baidu_translate(source, 'zh', 'en')\n",
        "\n",
        "  # 将翻译结果插入第三列，并标注为“百度翻译”\n",
        "  sources_df.at[i, '百度翻译'] = translation_baidu\n",
        "\n",
        "# 打印原文和译文对应的列表\n",
        "for index, row in sources_df.iterrows():\n",
        "    print(f\"原文: {row[0]}\")  # 假设中文句子位于第一列\n",
        "    print(f\"GLM译文: {row['GLM译文']}\\n\")  # 假设翻译结果位于名为“英文”的新列\n",
        "    print(f\"百度译文: {row['百度翻译']}\\n\")  # 假设翻译结果位于名为“英文”的新列\n",
        "\n",
        "# 保存修改后的DataFrame回Excel文件\n",
        "sources_df.to_excel('translated_source.xlsx', index=False)\n"
      ],
      "metadata": {
        "colab": {
          "base_uri": "https://localhost:8080/"
        },
        "id": "tRHOBeAR9LRL",
        "outputId": "8927bd1c-15dd-4a02-eb06-b01cb690a5d6"
      },
      "execution_count": 55,
      "outputs": [
        {
          "output_type": "stream",
          "name": "stdout",
          "text": [
            "原文: 北京语言大学高级翻译学院开设了翻译专业本科。\n",
            "GLM译文: The School of Translation and Interpreting at Beijing Language and Culture University has established a BTI program.\n",
            "\n",
            "百度译文: The School of Advanced Translation at Beijing Language and Culture University offers a bachelor's degree in translation.\n",
            "\n",
            "原文: 北京外国语大学高级翻译学院没有开设翻译专业本科。\n",
            "GLM译文: The Graduate School of Translation and Interpretation at Beijing Foreign Studies University does not offer an undergraduate BTI program.\n",
            "\n",
            "百度译文: The School of Advanced Translation at Beijing Foreign Studies University does not offer a bachelor's degree in translation.\n",
            "\n"
          ]
        }
      ]
    },
    {
      "cell_type": "code",
      "source": [
        "#进一步将GLM的代码也变成一个函数，是代码更为简洁\n",
        "\n",
        "# 假设client是已经初始化的GLM客户端\n",
        "\n",
        "def glm_translate(source, termlist, reference_str):\n",
        "    # 构建prompt，包含术语列表和翻译建议\n",
        "    prompt = f\"请将这句话翻译成英文:【{source}】\"\n",
        "\n",
        "    if termlist:\n",
        "        prompt += f\"，并严格参照以下术语:{termlist}\"\n",
        "    if reference_str:\n",
        "        prompt += f\"，并参考以下翻译建议:{reference_str}\"\n",
        "    prompt += \"。最后仅输出译文即可。\"\n",
        "\n",
        "    # 调用GLM模型\n",
        "    response = client.chat.completions.create(\n",
        "        model=\"glm-4\",  # 填写需要调用的模型名称\n",
        "        messages=[\n",
        "            {\"role\": \"user\", \"content\": prompt}\n",
        "        ],\n",
        "    )\n",
        "\n",
        "    # 解析响应并提取翻译结果\n",
        "    translation = response.choices[0].message.content\n",
        "\n",
        "    return translation\n"
      ],
      "metadata": {
        "id": "YPjx_2yc-cN5"
      },
      "execution_count": 56,
      "outputs": []
    },
    {
      "cell_type": "code",
      "source": [
        "#简化后的代码\n",
        "import pandas as pd\n",
        "\n",
        "# 读取Excel文件，假设第一列是我们想要的中文句子\n",
        "sources_df = pd.read_excel('source.xlsx')  # usecols=[0]表示只读取第一列，skiprows=[0]表示跳过第一行\n",
        "\n",
        "# 从Excel表格读取术语\n",
        "terms_df = pd.read_excel('terms_with_reference.xlsx')\n",
        "\n",
        "# 以中文为key,英文为值的字典\n",
        "terms = dict(zip(terms_df['中文'], terms_df['英文']))\n",
        "\n",
        "# 另外保存翻译建议\n",
        "reference = dict(zip(terms_df['中文'], terms_df['翻译建议']))\n",
        "\n",
        "# 遍历sources_df中的每一行\n",
        "for i, row in sources_df.iterrows():\n",
        "    source = row[0]  # 假设中文句子位于第一列\n",
        "    termlist = \"\"\n",
        "    reference_str = \"\"\n",
        "\n",
        "    # 构建术语列表和翻译建议字符串\n",
        "    for k, v in terms.items():\n",
        "        if k in source:\n",
        "            termlist += f\"\\n【{k}:{v}】\"\n",
        "\n",
        "    for k, ref in reference.items():\n",
        "        if k in source and pd.notnull(ref):\n",
        "            reference_str += f\"\\n【{k}:{ref}】\"\n",
        "\n",
        "    # 使用glm_translate函数获取GLM的翻译结果\n",
        "    translation_glm = glm_translate(source, termlist, reference_str)\n",
        "    sources_df.at[i, 'GLM译文'] = translation_glm\n",
        "\n",
        "    # 使用baidu_translate函数进行翻译\n",
        "    translation_baidu = baidu_translate(source, 'zh', 'en')\n",
        "    sources_df.at[i, '百度翻译'] = translation_baidu\n",
        "\n",
        "# 打印原文和译文对应的列表\n",
        "for index, row in sources_df.iterrows():\n",
        "    print(f\"原文: {row[0]}\")  # 假设中文句子位于第一列\n",
        "    print(f\"GLM译文: {row['GLM译文']}\\n\")  # 假设翻译结果位于名为“GLM译文”的列\n",
        "    print(f\"百度译文: {row['百度翻译']}\\n\")  # 假设翻译结果位于名为“百度翻译”的列\n",
        "\n",
        "# 保存修改后的DataFrame回Excel文件\n",
        "sources_df.to_excel('translated_source.xlsx', index=False)"
      ],
      "metadata": {
        "colab": {
          "base_uri": "https://localhost:8080/"
        },
        "id": "dyAQka2N_hfy",
        "outputId": "9432bdb1-69a4-4e0a-d586-eebf9a93a2f9"
      },
      "execution_count": 57,
      "outputs": [
        {
          "output_type": "stream",
          "name": "stdout",
          "text": [
            "原文: 北京语言大学高级翻译学院开设了翻译专业本科。\n",
            "GLM译文: The Beijing Language and Culture University has established a BTI program in the School of Translation and Interpreting.\n",
            "\n",
            "百度译文: The School of Advanced Translation at Beijing Language and Culture University offers a bachelor's degree in translation.\n",
            "\n",
            "原文: 北京外国语大学高级翻译学院没有开设翻译专业本科。\n",
            "GLM译文: The Graduate School of Translation and Interpretation at Beijing Foreign Studies University does not offer an undergraduate BTI program.\n",
            "\n",
            "百度译文: The School of Advanced Translation at Beijing Foreign Studies University does not offer a bachelor's degree in translation.\n",
            "\n"
          ]
        }
      ]
    },
    {
      "cell_type": "code",
      "source": [
        "#继续优化glm_translate()代码，接收两个参数：source.xlsx和terms.xlsx表格，输出的结果是translated_source.xlsx表格\n",
        "\n",
        "import pandas as pd\n",
        "\n",
        "def translate_and_save(source_file, terms_file, output_file):\n",
        "    # 读取Excel文件，假设第一列是我们想要的中文句子\n",
        "    sources_df = pd.read_excel(source_file)\n",
        "\n",
        "    # 从Excel表格读取术语\n",
        "    terms_df = pd.read_excel(terms_file)\n",
        "\n",
        "    # 以中文为key,英文为值的字典\n",
        "    terms = dict(zip(terms_df['中文'], terms_df['英文']))\n",
        "\n",
        "    # 另外保存翻译建议\n",
        "    reference = dict(zip(terms_df['中文'], terms_df['翻译建议']))\n",
        "\n",
        "    # 遍历sources_df中的每一行\n",
        "    for i, row in sources_df.iterrows():\n",
        "        source = row[0]  # 假设中文句子位于第一列\n",
        "        termlist = \"\"\n",
        "        reference_str = \"\"\n",
        "\n",
        "        # 构建术语列表和翻译建议字符串\n",
        "        for k, v in terms.items():\n",
        "            if k in source:\n",
        "                termlist += f\"\\n【{k}:{v}】\"\n",
        "\n",
        "        for k, ref in reference.items():\n",
        "            if k in source and pd.notnull(ref):\n",
        "                reference_str += f\"\\n【{k}:{ref}】\"\n",
        "\n",
        "        # 使用glm_translate函数获取GLM的翻译结果\n",
        "        translation_glm = glm_translate(source, termlist, reference_str)\n",
        "        sources_df.at[i, 'GLM译文'] = translation_glm\n",
        "\n",
        "        # 使用baidu_translate函数进行翻译\n",
        "        translation_baidu = baidu_translate(source, 'zh', 'en')\n",
        "        sources_df.at[i, '百度翻译'] = translation_baidu\n",
        "\n",
        "    # 保存修改后的DataFrame回Excel文件\n",
        "    sources_df.to_excel(output_file, index=False)\n",
        "\n",
        "\n",
        "translate_and_save('source.xlsx', 'terms_with_reference.xlsx', 'translated_source.xlsx')\n"
      ],
      "metadata": {
        "id": "3JJVU-UYALCt"
      },
      "execution_count": 58,
      "outputs": []
    },
    {
      "cell_type": "code",
      "source": [
        "# 预览导出的translated_source.xlsx表格的前几行\n",
        "translated_df = pd.read_excel('translated_source.xlsx')\n",
        "print(translated_df.head())"
      ],
      "metadata": {
        "colab": {
          "base_uri": "https://localhost:8080/"
        },
        "id": "UAVU7itgBHCw",
        "outputId": "462b7620-007a-46dd-9f86-db0ced10ae9b"
      },
      "execution_count": 59,
      "outputs": [
        {
          "output_type": "stream",
          "name": "stdout",
          "text": [
            "                         中文  英文  \\\n",
            "0    北京语言大学高级翻译学院开设了翻译专业本科。 NaN   \n",
            "1  北京外国语大学高级翻译学院没有开设翻译专业本科。 NaN   \n",
            "\n",
            "                                               GLM译文  \\\n",
            "0  The School of Translation and Interpreting at ...   \n",
            "1  The Graduate School of Translation and Interpr...   \n",
            "\n",
            "                                                百度翻译  \n",
            "0  The School of Advanced Translation at Beijing ...  \n",
            "1  The School of Advanced Translation at Beijing ...  \n"
          ]
        }
      ]
    }
  ]
}